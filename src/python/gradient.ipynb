{
 "cells": [
  {
   "cell_type": "code",
   "execution_count": 1,
   "id": "129d9b79",
   "metadata": {},
   "outputs": [
    {
     "data": {
      "text/plain": [
       "'\\nSPDX-License-Identifier: GPL-3.0-or-later\\n© 2008-2025 San Diego State University Research Foundation (SDSURF).\\nSee LICENSE file or https://www.gnu.org/licenses/gpl-3.0.html for details. \\n\\n@file gradient.cpp\\n@brief Mimetic Gradient Operator Class\\n@date 2025/06/01\\n'"
      ]
     },
     "execution_count": 1,
     "metadata": {},
     "output_type": "execute_result"
    }
   ],
   "source": [
    "\"\"\"\n",
    "SPDX-License-Identifier: GPL-3.0-or-later\n",
    "© 2008-2025 San Diego State University Research Foundation (SDSURF).\n",
    "See LICENSE file or https://www.gnu.org/licenses/gpl-3.0.html for details. \n",
    "\n",
    "@file gradient.cpp\n",
    "@brief Mimetic Gradient Operator Class\n",
    "@date 2025/06/01\n",
    "\"\"\""
   ]
  },
  {
   "cell_type": "code",
   "execution_count": 2,
   "id": "7ca876e4",
   "metadata": {},
   "outputs": [],
   "source": [
    "import numpy as np\n",
    "from scipy.sparse import csr_array"
   ]
  },
  {
   "cell_type": "code",
   "execution_count": 65,
   "id": "ce9c3c6c",
   "metadata": {},
   "outputs": [],
   "source": [
    "class Gradient:\n",
    "    def __init__(self, k, m, dx):\n",
    "\n",
    "        assert (k % 2) == 0, \"k must be even\"\n",
    "        assert 1 < k < 9, \"valid range of k is [1,9]\"\n",
    "        assert m >= 2 * k, \"m must be greater or equal to 2k\"\n",
    "\n",
    "        self.k =  k\n",
    "        self.m = m\n",
    "        self.dx = dx\n",
    "        \n",
    "        match k:\n",
    "            case 2:\n",
    "                data = np.array([\n",
    "                    -8.0 / 3.0, 3.0, -1.0 / 3.0, \n",
    "                    1.0 / 3.0, -3.0, 8.0 / 3.0])\n",
    "                row = np.array([0, 0, 0, m, m, m])\n",
    "                col = np.array([0, 1, 2, m-1, m, m+1])\n",
    "            \n",
    "                data = np.insert(data, 3, np.ones(m-1))\n",
    "                row = np.insert(row, 3, np.array(range(1,m)))\n",
    "                col = np.insert(col, 3, np.array(range(1,m)))\n",
    "\n",
    "                self.G = csr_array((data, (row, col)), dtype=np.float64)\n",
    "                # Weights\n",
    "                P = { 3.0 / 8.0 , 9.0 / 8.0 , 1.0 , 9.0 / 8.0 , 3.0 / 8.0 }\n",
    "\n",
    "            case 4:\n",
    "                row0 = np.array([-352.0 / 105.0, 35.0 / 8.0, -35.0 / 24.0, 21.0 / 40.0, -5.0 / 56.0])\n",
    "                row1 = np.array([ 16.0 / 105.0, -31.0 / 24.0, 29.0 / 24.0, -3.0 / 40.0, 1.0 / 168.0])\n",
    "                data = np.concatenate([\n",
    "                    row0,\n",
    "                    row1,\n",
    "                    -1.0 * row1[::-1],\n",
    "                    -1.0 * row0[::-1]                    \n",
    "                    ])\n",
    "                row = np.concatenate([\n",
    "                    np.zeros(k+1), \n",
    "                    np.full(k+1, 1),\n",
    "                    np.full(k+1, m-1),\n",
    "                    np.full(k+1, m)\n",
    "                    ]).astype(int)\n",
    "                col = np.concatenate([\n",
    "                    np.arange(k+1),\n",
    "                    np.arange(k+1), \n",
    "                    np.arange(m-3,m+2),\n",
    "                    np.arange(m-3,m+2)\n",
    "                    ])\n",
    "                DATAM =  np.array([1.0 / 24.0, -9.0 / 8.0, 9.0 / 8.0, -1.0 / 24.0])\n",
    "                dataM = np.array([])\n",
    "                rowM = np.array([])\n",
    "                colM = np.array([])\n",
    "                for i in range(2, m - 1):\n",
    "                    rowM = np.append(rowM, np.full(4,i)).astype(int)\n",
    "                    colM = np.append(colM, np.arange(i-1,i+3)).astype(int)\n",
    "                    dataM = np.append(dataM, DATAM)\n",
    "\n",
    "                offset = len(row0)+len(row1)\n",
    "                data = np.insert(data, offset, dataM)\n",
    "                row = np.insert(row, offset, rowM)\n",
    "                col = np.insert(col, offset, colM)\n",
    "\n",
    "                self.G = csr_array((data, (row, col)), dtype=np.float64)\n",
    "\n",
    "    def toarray(self):\n",
    "        return self.G.toarray()\n",
    "\n"
   ]
  },
  {
   "cell_type": "code",
   "execution_count": 66,
   "id": "45289580",
   "metadata": {},
   "outputs": [
    {
     "data": {
      "text/plain": [
       "array([[-2.66666667,  3.        , -0.33333333,  0.        ,  0.        ,  0.        ,  0.        ],\n",
       "       [ 0.        ,  1.        ,  0.        ,  0.        ,  0.        ,  0.        ,  0.        ],\n",
       "       [ 0.        ,  0.        ,  1.        ,  0.        ,  0.        ,  0.        ,  0.        ],\n",
       "       [ 0.        ,  0.        ,  0.        ,  1.        ,  0.        ,  0.        ,  0.        ],\n",
       "       [ 0.        ,  0.        ,  0.        ,  0.        ,  1.        ,  0.        ,  0.        ],\n",
       "       [ 0.        ,  0.        ,  0.        ,  0.        ,  0.33333333, -3.        ,  2.66666667]])"
      ]
     },
     "execution_count": 66,
     "metadata": {},
     "output_type": "execute_result"
    }
   ],
   "source": [
    "k = 2\n",
    "m = 2*k+1\n",
    "dx = 1/m\n",
    "G = Gradient(k, m, dx)\n",
    "np.set_printoptions(linewidth=160) \n",
    "G.toarray()"
   ]
  },
  {
   "cell_type": "code",
   "execution_count": 67,
   "id": "7babb087",
   "metadata": {},
   "outputs": [
    {
     "data": {
      "text/plain": [
       "array([[-3.35238095,  4.375     , -1.45833333,  0.525     , -0.08928571,  0.        ,  0.        ,  0.        ,  0.        ,  0.        ,  0.        ],\n",
       "       [ 0.15238095, -1.29166667,  1.20833333, -0.075     ,  0.00595238,  0.        ,  0.        ,  0.        ,  0.        ,  0.        ,  0.        ],\n",
       "       [ 0.        ,  0.04166667, -1.125     ,  1.125     , -0.04166667,  0.        ,  0.        ,  0.        ,  0.        ,  0.        ,  0.        ],\n",
       "       [ 0.        ,  0.        ,  0.04166667, -1.125     ,  1.125     , -0.04166667,  0.        ,  0.        ,  0.        ,  0.        ,  0.        ],\n",
       "       [ 0.        ,  0.        ,  0.        ,  0.04166667, -1.125     ,  1.125     , -0.04166667,  0.        ,  0.        ,  0.        ,  0.        ],\n",
       "       [ 0.        ,  0.        ,  0.        ,  0.        ,  0.04166667, -1.125     ,  1.125     , -0.04166667,  0.        ,  0.        ,  0.        ],\n",
       "       [ 0.        ,  0.        ,  0.        ,  0.        ,  0.        ,  0.04166667, -1.125     ,  1.125     , -0.04166667,  0.        ,  0.        ],\n",
       "       [ 0.        ,  0.        ,  0.        ,  0.        ,  0.        ,  0.        ,  0.04166667, -1.125     ,  1.125     , -0.04166667,  0.        ],\n",
       "       [ 0.        ,  0.        ,  0.        ,  0.        ,  0.        ,  0.        , -0.00595238,  0.075     , -1.20833333,  1.29166667, -0.15238095],\n",
       "       [ 0.        ,  0.        ,  0.        ,  0.        ,  0.        ,  0.        ,  0.08928571, -0.525     ,  1.45833333, -4.375     ,  3.35238095]])"
      ]
     },
     "execution_count": 67,
     "metadata": {},
     "output_type": "execute_result"
    }
   ],
   "source": [
    "k = 4\n",
    "m = 2*k+1\n",
    "dx = 1/m\n",
    "G = Gradient(k, m, dx)\n",
    "np.set_printoptions(linewidth=160) \n",
    "G.toarray()"
   ]
  }
 ],
 "metadata": {
  "kernelspec": {
   "display_name": "Python 3",
   "language": "python",
   "name": "python3"
  },
  "language_info": {
   "codemirror_mode": {
    "name": "ipython",
    "version": 3
   },
   "file_extension": ".py",
   "mimetype": "text/x-python",
   "name": "python",
   "nbconvert_exporter": "python",
   "pygments_lexer": "ipython3",
   "version": "3.11.9"
  }
 },
 "nbformat": 4,
 "nbformat_minor": 5
}
